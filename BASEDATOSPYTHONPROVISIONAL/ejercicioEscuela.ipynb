{
 "cells": [
  {
   "cell_type": "code",
   "execution_count": 1,
   "metadata": {},
   "outputs": [],
   "source": [
    "import sqlite3\n",
    "conex_proyecto=sqlite3.connect('db_escuela.db')\n",
    "\n",
    "cur=conex_proyecto.cursor()"
   ]
  },
  {
   "cell_type": "code",
   "execution_count": 2,
   "metadata": {},
   "outputs": [
    {
     "data": {
      "text/plain": [
       "<sqlite3.Cursor at 0x1f4af601740>"
      ]
     },
     "execution_count": 2,
     "metadata": {},
     "output_type": "execute_result"
    }
   ],
   "source": [
    "cur.execute(\"\"\"CREATE TABLE IF NOT EXISTS escuela(\n",
    "                        id integer primary key autoincrement,\n",
    "                        nombre text,\n",
    "                        direccion text,\n",
    "                        municipio text\n",
    ")\"\"\")\n",
    "\n",
    "cur.execute(\"\"\"CREATE TABLE IF NOT EXISTS profesor(\n",
    "                        id integer primary key autoincrement,\n",
    "                        nombre text,\n",
    "                        año_experiencia integer,\n",
    "                        fecha_nacimiento text,\n",
    "                        id_escuela integer,\n",
    "                        FOREIGN KEY (id_escuela) REFERENCES escuela (id)\n",
    ")\"\"\")\n",
    "\n",
    "cur.execute(\"\"\"CREATE TABLE IF NOT EXISTS alumno(\n",
    "                        id integer primary key autoincrement,\n",
    "                        nombre text,\n",
    "                        fecha_nacimiento text,\n",
    "                        escuela text,\n",
    "                        año_curso integer,\n",
    "                        id_escuela integer,\n",
    "                        id_profesor integer,\n",
    "                        FOREIGN KEY (id_escuela) REFERENCES escuela (id),\n",
    "                        FOREIGN KEY (id_profesor) REFERENCES profesor (id)\n",
    "\n",
    ")\"\"\")"
   ]
  }
 ],
 "metadata": {
  "kernelspec": {
   "display_name": "Python 3",
   "language": "python",
   "name": "python3"
  },
  "language_info": {
   "codemirror_mode": {
    "name": "ipython",
    "version": 3
   },
   "file_extension": ".py",
   "mimetype": "text/x-python",
   "name": "python",
   "nbconvert_exporter": "python",
   "pygments_lexer": "ipython3",
   "version": "3.11.1"
  },
  "orig_nbformat": 4,
  "vscode": {
   "interpreter": {
    "hash": "e23b9650074f50381d2a06c7c8740351222a7c6d13bdb447b79c653582a22352"
   }
  }
 },
 "nbformat": 4,
 "nbformat_minor": 2
}
