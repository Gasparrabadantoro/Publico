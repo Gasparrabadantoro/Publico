{
 "cells": [
  {
   "cell_type": "code",
   "execution_count": 1,
   "metadata": {},
   "outputs": [
    {
     "ename": "NameError",
     "evalue": "name 'conex_proyecto' is not defined",
     "output_type": "error",
     "traceback": [
      "\u001b[1;31m---------------------------------------------------------------------------\u001b[0m",
      "\u001b[1;31mNameError\u001b[0m                                 Traceback (most recent call last)",
      "Cell \u001b[1;32mIn[1], line 5\u001b[0m\n\u001b[0;32m      1\u001b[0m \u001b[39mimport\u001b[39;00m \u001b[39msqlite3\u001b[39;00m\n\u001b[0;32m      3\u001b[0m onex_proyecto\u001b[39m=\u001b[39msqlite3\u001b[39m.\u001b[39mconnect(\u001b[39m'\u001b[39m\u001b[39mdb_twitter_db\u001b[39m\u001b[39m'\u001b[39m)\n\u001b[1;32m----> 5\u001b[0m cur\u001b[39m=\u001b[39mconex_proyecto\u001b[39m.\u001b[39mcursor()\n",
      "\u001b[1;31mNameError\u001b[0m: name 'conex_proyecto' is not defined"
     ]
    }
   ],
   "source": [
    "import sqlite3\n",
    "\n",
    "onex_proyecto=sqlite3.connect('db_twitter_db')\n",
    "\n",
    "cur=conex_proyecto.cursor()\n",
    "\n",
    "\n",
    "\n"
   ]
  },
  {
   "cell_type": "code",
   "execution_count": null,
   "metadata": {},
   "outputs": [],
   "source": [
    "cur.execute(\"\"\"CREATE TABLE IF NOT EXISTS twitter(\n",
    "                        id account primary key autoincrement,\n",
    "                        follower int,\n",
    "                        occupation text,\n",
    "                        country text\n",
    ")\"\"\")"
   ]
  }
 ],
 "metadata": {
  "kernelspec": {
   "display_name": "Python 3",
   "language": "python",
   "name": "python3"
  },
  "language_info": {
   "codemirror_mode": {
    "name": "ipython",
    "version": 3
   },
   "file_extension": ".py",
   "mimetype": "text/x-python",
   "name": "python",
   "nbconvert_exporter": "python",
   "pygments_lexer": "ipython3",
   "version": "3.11.1"
  },
  "orig_nbformat": 4,
  "vscode": {
   "interpreter": {
    "hash": "e23b9650074f50381d2a06c7c8740351222a7c6d13bdb447b79c653582a22352"
   }
  }
 },
 "nbformat": 4,
 "nbformat_minor": 2
}
