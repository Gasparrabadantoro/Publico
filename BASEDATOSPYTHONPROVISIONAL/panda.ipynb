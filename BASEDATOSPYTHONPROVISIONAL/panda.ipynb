{
 "cells": [
  {
   "cell_type": "code",
   "execution_count": 1,
   "metadata": {},
   "outputs": [
    {
     "name": "stdout",
     "output_type": "stream",
     "text": [
      "[1 '@BarackObama' 'Barack Obama' 'N' 133.4\n",
      " '44th President of the United States' 'United States']\n",
      "[2 '@elonmusk' 'Elon Musk' 'N' 123.3\n",
      " 'Business magnate, investor, and owner of Twitter' 'South Africa']\n",
      "[3 '@justinbieber' 'Justin Bieber' 'N' 113.6 'Musician' 'Canada']\n",
      "[4 '@katyperry' 'Katy Perry' 'N' 108.7 'Musician' 'United States']\n",
      "[5 '@rihanna' 'Rihanna' 'N' 107.4 'Musician' 'Barbados']\n",
      "[6 '@Cristiano' 'Cristiano Ronaldo' 'N' 106.3 'Football player' 'Portugal']\n",
      "[7 '@taylorswift13' 'Taylor Swift' 'N' 92.0 'Musician' 'United States']\n",
      "[8 '@realDonaldTrump' 'Donald Trump' 'N' 87.8\n",
      " '45th President of the United States' 'United States']\n",
      "[9 '@narendramodi' 'Narendra Modi' 'N' 85.1 'Prime Minister of India'\n",
      " 'India']\n",
      "[10 '@ladygaga' 'Lady Gaga' 'N' 84.9 'Musician and actress'\n",
      " 'United States']\n",
      "[11 '@YouTube' 'YouTube' 'Y' 77.9 'Online video sharing platform'\n",
      " 'United States']\n",
      "[12 '@TheEllenShow' 'Ellen DeGeneres' 'N' 76.9\n",
      " 'Comedian and television host' 'United States']\n",
      "[13 '@KimKardashian' 'Kim Kardashian' 'N' 74.3\n",
      " 'Television personality and businesswoman' 'United States']\n",
      "[14 '@NASA' 'NASA' 'Y' 67.6 'Space agency' 'United States']\n",
      "[15 '@selenagomez' 'Selena Gomez' 'N' 66.4 'Musician and actress'\n",
      " 'United States']\n",
      "[16 '@Twitter' 'Twitter' 'Y' 65.0 'Social media platform' 'United States']\n",
      "[17 '@cnnbrk' 'CNN Breaking News' 'Y' 64.0 'News channel' 'United States']\n",
      "[18 '@jtimberlake' 'Justin Timberlake' 'N' 62.7 'Musician and actor'\n",
      " 'United States']\n",
      "[19 '@BillGates' 'Bill Gates' 'N' 61.2 'Businessman and philanthropist'\n",
      " 'United States']\n",
      "[20 '@CNN' 'CNN' 'Y' 60.7 'News channel' 'United States']\n",
      "[21 '@neymarjr' 'Neymar' 'N' 59.5 'Football player' 'Brazil']\n",
      "[22 '@britneyspears' 'Britney Spears' 'N' 56.0 'Musician' 'United States']\n",
      "[23 '@nytimes' 'The New York Times' 'Y' 54.7 'Newspaper' 'United States']\n",
      "[24 '@ddlovato' 'Demi Lovato' 'N' 53.9 'Musician and actress'\n",
      " 'United States']\n",
      "[25 '@shakira' 'Shakira' 'N' 53.2 'Musician' 'Colombia']\n",
      "[26 '@KingJames' 'LeBron James' 'N' 52.4 'Basketball player'\n",
      " 'United States']\n",
      "[27 '@imVkohli' 'Virat Kohli' 'N' 52.2 'Cricket player' 'India']\n",
      "[28 '@PMOIndia' 'PMO India' 'Y' 51.6\n",
      " 'Office of the Prime Minister of India' 'India']\n",
      "[29 '@BBCBreaking' 'BBC Breaking News' 'Y' 51.4 'News channel'\n",
      " 'United Kingdom']\n",
      "[30 '@jimmyfallon' 'Jimmy Fallon' 'N' 51.2 'Comedian and television host'\n",
      " 'United States']\n",
      "[31 '@SrBachchan' 'Amitabh Bachchan' 'N' 48.1 'Actor' 'India']\n",
      "[32 '@BTS_twt' 'BTS' 'N' 47.8 'Musicians' 'South Korea']\n",
      "[33 '@MileyCyrus' 'Miley Cyrus' 'N' 46.7 'Musician and actress'\n",
      " 'United States']\n",
      "[34 '@realmadrid' 'Real Madrid CF' 'Y' 45.8 'Football club' 'Spain']\n",
      "[35 '@ChampionsLeague' 'UEFA Champions League' 'Y' 45.7 'Football league'\n",
      " 'Europe']\n",
      "[36 '@JLo' 'Jennifer Lopez' 'N' 45.4 'Musician and actress'\n",
      " 'United States']\n",
      "[37 '@akshaykumar' 'Akshay Kumar' 'N' 45.4 'Actor' 'India']\n",
      "[38 '@FCBarcelona' 'FC Barcelona' 'Y' 45.2 'Football club' 'Spain']\n",
      "[39 '@BeingSalmanKhan' 'Salman Khan' 'N' 44.6 'Actor' 'India']\n",
      "[40 '@espn' 'ESPN' 'Y' 43.6 'Sports channel' 'United States']\n",
      "[41 '@BrunoMars' 'Bruno Mars' 'N' 43.1 'Musician' 'United States']\n",
      "[42 '@Oprah' 'Oprah Winfrey' 'N' 43.0 'Television personality'\n",
      " 'United States']\n",
      "[43 '@iamsrk' 'Shah Rukh Khan' 'N' 42.8 'Actor' 'India']\n",
      "[44 '@bts_bighit' 'BTS' 'N' 42.2 'Musicians' 'South Korea']\n",
      "[45 '@SportsCenter' 'SportsCenter' 'Y' 41.3 'Sports channel'\n",
      " 'United States']\n",
      "[46 '@NiallOfficial' 'Niall Horan' 'N' 41.1 'Musician' 'Ireland']\n",
      "[47 '@NBA' 'NBA' 'Y' 41.1 'Basketball league' 'United States']\n",
      "[48 '@KylieJenner' 'Kylie Jenner' 'N' 40.3\n",
      " 'Television personality and businesswoman' 'United States']\n",
      "[49 '@Drake' 'Drake' 'N' 39.8 'Rapper' 'Canada']\n",
      "[50 '@BBCWorld' 'BBC World News' 'Y' 39.0 'News channel' 'United Kingdom']\n"
     ]
    }
   ],
   "source": [
    "# esta wea te convierte una tabla en datos. \n",
    "import pandas as pd\n",
    "\n",
    "df_most_followed=pd.read_csv('most_followed_twitter.csv')\n",
    "personas=df_most_followed.values\n",
    "for persona in personas:\n",
    "    print(persona)\n"
   ]
  },
  {
   "cell_type": "code",
   "execution_count": 2,
   "metadata": {},
   "outputs": [],
   "source": [
    "import sqlite3\n",
    "conex_proyecto=sqlite3.connect('twitter2.db')\n",
    "# el objeto cursor permite a través del método execute ejecutar sentencias SQL\n",
    "cur = conex_proyecto.cursor()\n"
   ]
  },
  {
   "cell_type": "code",
   "execution_count": 4,
   "metadata": {},
   "outputs": [
    {
     "ename": "ProgrammingError",
     "evalue": "Cannot operate on a closed database.",
     "output_type": "error",
     "traceback": [
      "\u001b[1;31m---------------------------------------------------------------------------\u001b[0m",
      "\u001b[1;31mProgrammingError\u001b[0m                          Traceback (most recent call last)",
      "Cell \u001b[1;32mIn[4], line 1\u001b[0m\n\u001b[1;32m----> 1\u001b[0m cur\u001b[39m.\u001b[39;49mexecute(\u001b[39m\"\"\"\u001b[39;49m\u001b[39mCREATE TABLE IF NOT EXISTS twitter(\u001b[39;49m\n\u001b[0;32m      2\u001b[0m \u001b[39m                       \u001b[39;49m\n\u001b[0;32m      3\u001b[0m \u001b[39m                        rank integer, \u001b[39;49m\n\u001b[0;32m      4\u001b[0m \u001b[39m                        account_name text,\u001b[39;49m\n\u001b[0;32m      5\u001b[0m \u001b[39m                        account_owner text,\u001b[39;49m\n\u001b[0;32m      6\u001b[0m \u001b[39m                        brand text,\u001b[39;49m\n\u001b[0;32m      7\u001b[0m \u001b[39m                        country text,\u001b[39;49m\n\u001b[0;32m      8\u001b[0m \u001b[39m                        occupation text, \u001b[39;49m\n\u001b[0;32m      9\u001b[0m \u001b[39m                        follower real\u001b[39;49m\n\u001b[0;32m     10\u001b[0m \n\u001b[0;32m     11\u001b[0m \u001b[39m)\u001b[39;49m\u001b[39m\"\"\"\u001b[39;49m)\n\u001b[0;32m     12\u001b[0m \u001b[39mfor\u001b[39;00m persona \u001b[39min\u001b[39;00m personas:\n\u001b[0;32m     13\u001b[0m     cur\u001b[39m.\u001b[39mexecute(\u001b[39m\"\"\"\u001b[39m\u001b[39minsert into twitter\u001b[39m\n\u001b[0;32m     14\u001b[0m \u001b[39m    (rank,account_name,account_owner,brand,country,occupation,follower) VALUES (?,?,?,?,?,?,?) \u001b[39m\u001b[39m\"\"\"\u001b[39m,(persona))\n",
      "\u001b[1;31mProgrammingError\u001b[0m: Cannot operate on a closed database."
     ]
    }
   ],
   "source": [
    "cur.execute(\"\"\"CREATE TABLE IF NOT EXISTS twitter(\n",
    "                       \n",
    "                        rank integer, \n",
    "                        account_name text,\n",
    "                        account_owner text,\n",
    "                        brand text,\n",
    "                        country text,\n",
    "                        occupation text, \n",
    "                        follower real\n",
    "\n",
    ")\"\"\")\n",
    "for persona in personas:\n",
    "    cur.execute(\"\"\"insert into twitter\n",
    "    (rank,account_name,account_owner,brand,country,occupation,follower) VALUES (?,?,?,?,?,?,?) \"\"\",(persona))\n",
    "\n",
    "conex_proyecto.commit()\n",
    "conex_proyecto.close()\n",
    "    "
   ]
  },
  {
   "cell_type": "code",
   "execution_count": null,
   "metadata": {},
   "outputs": [],
   "source": []
  }
 ],
 "metadata": {
  "kernelspec": {
   "display_name": "Python 3",
   "language": "python",
   "name": "python3"
  },
  "language_info": {
   "codemirror_mode": {
    "name": "ipython",
    "version": 3
   },
   "file_extension": ".py",
   "mimetype": "text/x-python",
   "name": "python",
   "nbconvert_exporter": "python",
   "pygments_lexer": "ipython3",
   "version": "3.11.1"
  },
  "orig_nbformat": 4,
  "vscode": {
   "interpreter": {
    "hash": "e23b9650074f50381d2a06c7c8740351222a7c6d13bdb447b79c653582a22352"
   }
  }
 },
 "nbformat": 4,
 "nbformat_minor": 2
}
