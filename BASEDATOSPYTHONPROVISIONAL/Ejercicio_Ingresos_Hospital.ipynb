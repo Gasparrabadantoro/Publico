{
 "cells": [
  {
   "cell_type": "code",
   "execution_count": 94,
   "metadata": {},
   "outputs": [],
   "source": [
    "import sqlite3\n",
    "conex_proyecto=sqlite3.connect('db_ingresos_hospital5.db') \n",
    "\n",
    "cur=conex_proyecto.cursor()"
   ]
  },
  {
   "cell_type": "code",
   "execution_count": 95,
   "metadata": {},
   "outputs": [
    {
     "name": "stdout",
     "output_type": "stream",
     "text": [
      "[638192 'Shaun' 'Graham' 'Madagascar']\n",
      "[478263 'Sugar ' 'Watermelon' 'Holwars']\n",
      "[298732 'Snape' 'Salazar' 'Madrid']\n"
     ]
    }
   ],
   "source": [
    "import pandas as pd\n",
    "\n",
    "df_pacientes_hospital=pd.read_csv('pacientes_hospital.csv',sep=';',encoding='iso_8859_1')\n",
    "\n",
    "personas=df_pacientes_hospital.values\n",
    "for persona in personas:\n",
    "    print(persona)\n"
   ]
  },
  {
   "cell_type": "code",
   "execution_count": 96,
   "metadata": {},
   "outputs": [
    {
     "name": "stdout",
     "output_type": "stream",
     "text": [
      "['Paco ;Rabadán ;Cirujano;5']\n",
      "['Crish;Broncano ;Podólogo;6']\n",
      "['Gambino ;Express;Pediatra ;7']\n",
      "['Sus;Laik Yu ;Octalmologo;8']\n"
     ]
    }
   ],
   "source": [
    "\n",
    "\n",
    "df_medicos_hospital=pd.read_csv('medicos_hospital.csv',encoding='iso_8859_1')\n",
    "\n",
    "medicos=df_medicos_hospital.values\n",
    "for medico in medicos:\n",
    "    print(medico)\n"
   ]
  },
  {
   "cell_type": "code",
   "execution_count": 97,
   "metadata": {},
   "outputs": [
    {
     "name": "stdout",
     "output_type": "stream",
     "text": [
      "['        12/00/2023']\n",
      "['13/11/2023']\n",
      "['12/09/2023']\n",
      "['14/08/2023']\n"
     ]
    }
   ],
   "source": [
    "df_ingresos_hospital=pd.read_csv('ingresos_hospital.csv',encoding='iso_8859_1')\n",
    "\n",
    "ingresos=df_ingresos_hospital.values\n",
    "for ingreso in ingresos:\n",
    "    print(ingreso)"
   ]
  },
  {
   "cell_type": "code",
   "execution_count": 98,
   "metadata": {},
   "outputs": [
    {
     "ename": "OperationalError",
     "evalue": "table medicos has no column named cod_id",
     "output_type": "error",
     "traceback": [
      "\u001b[1;31m---------------------------------------------------------------------------\u001b[0m",
      "\u001b[1;31mOperationalError\u001b[0m                          Traceback (most recent call last)",
      "Cell \u001b[1;32mIn[98], line 9\u001b[0m\n\u001b[0;32m      1\u001b[0m cur\u001b[39m.\u001b[39mexecute(\u001b[39m\"\"\"\u001b[39m\u001b[39mCREATE TABLE IF NOT EXISTS medicos(\u001b[39m\n\u001b[0;32m      2\u001b[0m \u001b[39m                        cod_id integer, \u001b[39m\n\u001b[0;32m      3\u001b[0m \u001b[39m                        nombre text,\u001b[39m\n\u001b[0;32m      4\u001b[0m \u001b[39m                        apellidos text,\u001b[39m\n\u001b[0;32m      5\u001b[0m \u001b[39m                        especialidad text\u001b[39m\n\u001b[0;32m      6\u001b[0m \u001b[39m)\u001b[39m\u001b[39m\"\"\"\u001b[39m)\n\u001b[0;32m      8\u001b[0m \u001b[39mfor\u001b[39;00m persona \u001b[39min\u001b[39;00m personas:\n\u001b[1;32m----> 9\u001b[0m     cur\u001b[39m.\u001b[39;49mexecute(\u001b[39m\"\"\"\u001b[39;49m\u001b[39minsert into medicos\u001b[39;49m\n\u001b[0;32m     10\u001b[0m \u001b[39m    (cod_id,nombre,apellidos,especialidad) VALUES (?,?,?,?) \u001b[39;49m\u001b[39m\"\"\"\u001b[39;49m,(persona))\n",
      "\u001b[1;31mOperationalError\u001b[0m: table medicos has no column named cod_id"
     ]
    }
   ],
   "source": [
    "cur.execute(\"\"\"CREATE TABLE IF NOT EXISTS medicos(\n",
    "                        cod_id integer, \n",
    "                        nombre text,\n",
    "                        apellidos text,\n",
    "                        especialidad text\n",
    ")\"\"\")\n",
    "\n",
    "for persona in personas:\n",
    "    cur.execute(\"\"\"insert into medicos\n",
    "    (cod_id,nombre,apellidos,especialidad) VALUES (?,?,?,?) \"\"\",(persona))\n",
    "    "
   ]
  },
  {
   "cell_type": "code",
   "execution_count": null,
   "metadata": {},
   "outputs": [
    {
     "ename": "OperationalError",
     "evalue": "table paciente has no column named id",
     "output_type": "error",
     "traceback": [
      "\u001b[1;31m---------------------------------------------------------------------------\u001b[0m",
      "\u001b[1;31mOperationalError\u001b[0m                          Traceback (most recent call last)",
      "Cell \u001b[1;32mIn[68], line 11\u001b[0m\n\u001b[0;32m      1\u001b[0m cur\u001b[39m.\u001b[39mexecute(\u001b[39m\"\"\"\u001b[39m\u001b[39mCREATE TABLE IF NOT EXISTS paciente(\u001b[39m\n\u001b[0;32m      2\u001b[0m \u001b[39m                        historial integer, \u001b[39m\n\u001b[0;32m      3\u001b[0m \u001b[39m                        nombre text,\u001b[39m\n\u001b[1;32m   (...)\u001b[0m\n\u001b[0;32m      8\u001b[0m \n\u001b[0;32m      9\u001b[0m \u001b[39m)\u001b[39m\u001b[39m\"\"\"\u001b[39m)\n\u001b[0;32m     10\u001b[0m \u001b[39mfor\u001b[39;00m persona \u001b[39min\u001b[39;00m personas:\n\u001b[1;32m---> 11\u001b[0m     cur\u001b[39m.\u001b[39;49mexecute(\u001b[39m\"\"\"\u001b[39;49m\u001b[39minsert into paciente\u001b[39;49m\n\u001b[0;32m     12\u001b[0m \u001b[39m    (id,nombre,apellidos,especialidad,id_medicos) VALUES (?,?,?,?,?) \u001b[39;49m\u001b[39m\"\"\"\u001b[39;49m,(persona))\n\u001b[0;32m     14\u001b[0m conex_proyecto\u001b[39m.\u001b[39mcommit()\n\u001b[0;32m     15\u001b[0m conex_proyecto\u001b[39m.\u001b[39mclose()\n",
      "\u001b[1;31mOperationalError\u001b[0m: table paciente has no column named id"
     ]
    }
   ],
   "source": [
    "cur.execute(\"\"\"CREATE TABLE IF NOT EXISTS paciente(\n",
    "                        historial integer, \n",
    "                        nombre text,\n",
    "                        apellidos text,\n",
    "                        domicilio text,\n",
    "                        id_medicos integer,\n",
    "                        FOREIGN KEY (id_medicos) REFERENCES medicos (cod_id)\n",
    "\n",
    ")\"\"\")\n",
    "for persona in personas:\n",
    "    cur.execute(\"\"\"insert into paciente\n",
    "    (historial,nombre,apellidos,especialidad,id_medicos) VALUES (?,?,?,?,?) \"\"\",(persona))\n",
    "\n",
    "conex_proyecto.commit()\n",
    "conex_proyecto.close()"
   ]
  }
 ],
 "metadata": {
  "kernelspec": {
   "display_name": "Python 3",
   "language": "python",
   "name": "python3"
  },
  "language_info": {
   "codemirror_mode": {
    "name": "ipython",
    "version": 3
   },
   "file_extension": ".py",
   "mimetype": "text/x-python",
   "name": "python",
   "nbconvert_exporter": "python",
   "pygments_lexer": "ipython3",
   "version": "3.11.1"
  },
  "orig_nbformat": 4,
  "vscode": {
   "interpreter": {
    "hash": "e23b9650074f50381d2a06c7c8740351222a7c6d13bdb447b79c653582a22352"
   }
  }
 },
 "nbformat": 4,
 "nbformat_minor": 2
}
