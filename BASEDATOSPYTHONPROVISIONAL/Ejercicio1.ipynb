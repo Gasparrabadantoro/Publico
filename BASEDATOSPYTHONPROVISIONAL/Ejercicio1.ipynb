{
 "cells": [
  {
   "cell_type": "code",
   "execution_count": 4,
   "metadata": {},
   "outputs": [],
   "source": [
    "### Vamos a ver las listas,(arrays) se hacen con corchete \n",
    "\n",
    "a =['cucamona'] # lista vacía \n",
    "b =['hola','mundo'] # lista de cadenas \n",
    "c=[22,44,57] # lista de numeros \n",
    "d= [[11,34],[36,67], [88,63]] # una matriz de 3x2 "
   ]
  },
  {
   "cell_type": "code",
   "execution_count": 6,
   "metadata": {},
   "outputs": [
    {
     "name": "stdout",
     "output_type": "stream",
     "text": [
      "el valor de esta fila es  22 que es un numero\n",
      "el valor de esta fila es  44 que es un numero\n",
      "el valor de esta fila es  57 que es un numero\n"
     ]
    }
   ],
   "source": [
    "#Otra forma de hacer un for \n",
    "for vvvv in c:\n",
    "    print('el valor de esta fila es ',vvvv,'que es un numero')"
   ]
  },
  {
   "cell_type": "code",
   "execution_count": 8,
   "metadata": {},
   "outputs": [
    {
     "name": "stdout",
     "output_type": "stream",
     "text": [
      "3\n",
      "[0, 1, 2]\n",
      "0\n",
      "1\n",
      "2\n"
     ]
    }
   ],
   "source": [
    "cant_elementos=len(c)\n",
    "print(cant_elementos)\n",
    "cant_elementos=len(c)\n",
    "#range(3) nos da un rango de 0 hasta 2, para verlo vien lo podemos hacer una lista con list \n",
    "ix_elementos=list(range(cant_elementos))\n",
    "print(ix_elementos)\n",
    "for ix in range(cant_elementos):\n",
    "    print('los valor de ix son 'ix,'en cada iteración')"
   ]
  },
  {
   "cell_type": "code",
   "execution_count": 19,
   "metadata": {},
   "outputs": [
    {
     "name": "stdout",
     "output_type": "stream",
     "text": [
      "cucamona\n"
     ]
    }
   ],
   "source": [
    "for elem in a:\n",
    "    print(elem) "
   ]
  },
  {
   "cell_type": "code",
   "execution_count": null,
   "metadata": {},
   "outputs": [],
   "source": [
    "### Esto te importa lo que nosotros queramos \n",
    "import sqlite3"
   ]
  },
  {
   "attachments": {},
   "cell_type": "markdown",
   "metadata": {},
   "source": [
    "# Demo Jupyter NoteBook \n",
    "## Tiene que estar en la misma carpeta, y en los corchetes que no tenga la extensión. \n",
    "\n",
    "![gato](gato.jpg)"
   ]
  },
  {
   "attachments": {},
   "cell_type": "markdown",
   "metadata": {},
   "source": [
    "# Titulo Grande \n",
    "## Titulo mas pequeño \n",
    "### hemos dado dos comandos :\n",
    "## Esc para que se vea \"Mejor? \" y pincho otra vez para que vuelva a su estado natural \n",
    "\n",
    "\n",
    "-Esc-a para crear una celda encima  \n",
    "-Esc-b para crear una celda debajo  \n",
    "-Esc- m para que la nueva  celda sea de texto   \n",
    "- Para negritas **Negritas**\n",
    "-Eliminar una celda Esc-dd para eliminar \n",
    "- Esc y para codigo y Esc m para texto \n",
    "- OJO, los espacios cuentan esto no es java \n",
    "### Para ejecutasr una celda (Que sea codigo de texto) se da en el simbolo de play a la izquierda o sea da Crt-Enter al mismo tiempo\n",
    "\n",
    " "
   ]
  },
  {
   "cell_type": "code",
   "execution_count": 1,
   "metadata": {},
   "outputs": [
    {
     "name": "stdout",
     "output_type": "stream",
     "text": [
      "hola\n"
     ]
    }
   ],
   "source": [
    "\n",
    "\n",
    "print('hola') #Esto es para imprimir en la consola, "
   ]
  }
 ],
 "metadata": {
  "kernelspec": {
   "display_name": "Python 3",
   "language": "python",
   "name": "python3"
  },
  "language_info": {
   "codemirror_mode": {
    "name": "ipython",
    "version": 3
   },
   "file_extension": ".py",
   "mimetype": "text/x-python",
   "name": "python",
   "nbconvert_exporter": "python",
   "pygments_lexer": "ipython3",
   "version": "3.11.1"
  },
  "orig_nbformat": 4,
  "vscode": {
   "interpreter": {
    "hash": "e23b9650074f50381d2a06c7c8740351222a7c6d13bdb447b79c653582a22352"
   }
  }
 },
 "nbformat": 4,
 "nbformat_minor": 2
}
