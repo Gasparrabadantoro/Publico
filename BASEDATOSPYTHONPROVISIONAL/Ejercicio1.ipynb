{
 "cells": [
  {
   "cell_type": "code",
   "execution_count": null,
   "metadata": {},
   "outputs": [],
   "source": [
    "\n",
    "\n"
   ]
  },
  {
   "cell_type": "code",
   "execution_count": 5,
   "metadata": {},
   "outputs": [],
   "source": [
    "#Crear la base de datos, un objeto para conectarse a ella y un objeto tipo cursor para operar sobre las tablas \n",
    "\n",
    "#Insertar filas en una tabla \n",
    "import sqlite3\n",
    "conex_proyecto=sqlite3.connect('db_proyecto.db')\n",
    "\n",
    "#el objeto cursor permite a traves del metodo execute ejecutar sentencias SQL \n",
    "\n",
    "cur=conex_proyecto.cursor()"
   ]
  },
  {
   "cell_type": "code",
   "execution_count": 10,
   "metadata": {},
   "outputs": [
    {
     "data": {
      "text/plain": [
       "<sqlite3.Cursor at 0x252447b3140>"
      ]
     },
     "execution_count": 10,
     "metadata": {},
     "output_type": "execute_result"
    }
   ],
   "source": [
    "cur.execute(\"\"\"CREATE TABLE IF NOT EXISTS proyecto(\n",
    "                        id integer primary key autoincrement,\n",
    "                        nombre text,\n",
    "                        fecha_comienzo text,\n",
    "                        fecha_fin text\n",
    ")\"\"\")\n",
    "\n",
    "cur.execute(\"\"\"CREATE TABLE IF NOT EXISTS tarea(\n",
    "                        id integer primary key autoincrement,\n",
    "                        id_proyecto int,\n",
    "                        nombre text,\n",
    "                        prioridad text,\n",
    "                        estado text,\n",
    "                        fecha_comienzo text,\n",
    "                        fecha_fin text,\n",
    "                        FOREIGN KEY (id_proyecto) REFERENCES proyecto (id)\n",
    ")\"\"\")"
   ]
  },
  {
   "cell_type": "code",
   "execution_count": 9,
   "metadata": {},
   "outputs": [],
   "source": [
    "# SENTENCIAS SQULITE PARA INSETAR DATOS EN LAS TABLAS\n",
    "\n",
    "cur.execute(\"\"\" INSERT INTO proyecto(nombre, fecha_comienzo,fecha_fin)VALUES ('vialia', '17/02/2001','25/01/2013')\"\"\")\n",
    "conex_proyecto.commit()"
   ]
  },
  {
   "cell_type": "code",
   "execution_count": 11,
   "metadata": {},
   "outputs": [
    {
     "name": "stderr",
     "output_type": "stream",
     "text": [
      "<>:4: SyntaxWarning: 'str' object is not callable; perhaps you missed a comma?\n",
      "<>:4: SyntaxWarning: 'str' object is not callable; perhaps you missed a comma?\n"
     ]
    },
    {
     "ename": "NameError",
     "evalue": "name 'proy_nombre' is not defined",
     "output_type": "error",
     "traceback": [
      "\u001b[1;31m---------------------------------------------------------------------------\u001b[0m",
      "\u001b[1;31mNameError\u001b[0m                                 Traceback (most recent call last)",
      "Cell \u001b[1;32mIn[11], line 2\u001b[0m\n\u001b[0;32m      1\u001b[0m \u001b[39m#INSERT INTO nombre_tabla(campo1,campo2...campon)VALUES(?,?...?)\"\"\"\u001b[39;00m\n\u001b[1;32m----> 2\u001b[0m cantidad_proyecto\u001b[39m=\u001b[39m\u001b[39mlen\u001b[39m(proy_nombre)\n\u001b[0;32m      3\u001b[0m \u001b[39mfor\u001b[39;00m i \u001b[39min\u001b[39;00m \u001b[39mrange\u001b[39m(cantidad_proyecto):\n\u001b[0;32m      4\u001b[0m     cur\u001b[39m.\u001b[39mexecute(\u001b[39m\"\"\"\u001b[39m\u001b[39m INSERT INTO proyecto\u001b[39m\n\u001b[0;32m      5\u001b[0m \u001b[39m                (nombre,fecha_comienzo,fecha_fin) VALUES (?,?,?);\u001b[39m\n\u001b[0;32m      6\u001b[0m \u001b[39m                                        \u001b[39m\u001b[39m\"\"\"\u001b[39m(proy_nombre[i],proy_inicio[i],proy_fin[i]))\n",
      "\u001b[1;31mNameError\u001b[0m: name 'proy_nombre' is not defined"
     ]
    }
   ],
   "source": [
    "#INSERT INTO nombre_tabla(campo1,campo2...campon)VALUES(?,?...?)\"\"\"\n",
    "cantidad_proyecto=len(proy_nombre)\n",
    "for i in range(cantidad_proyecto):\n",
    "    cur.execute(\"\"\" INSERT INTO proyecto\n",
    "                (nombre,fecha_comienzo,fecha_fin) VALUES (?,?,?);\n",
    "                                        \"\"\"(proy_nombre[i],proy_inicio[i],proy_fin[i]))\n",
    "\n",
    "\n",
    "\n",
    "cantidad_tareas = len(tarea_nombre)\n",
    "for ix in range(cantidad_tareas):\n",
    "    \n",
    "    cur.execute(''' INSERT INTO tarea(id_proyecto,nombre, prioridad,\n",
    "    estado, fecha_comienzo,fecha_fin) VALUES (?,?,?,?,?,?)''',\n",
    "    (tarea_proy_id[ix],tarea_nombre[ix],tarea_prioridad[ix],\n",
    "    tarea_estado[ix],tarea_inicio[ix],tarea_fin[ix]))\n",
    "\n",
    "\n"
   ]
  },
  {
   "cell_type": "code",
   "execution_count": 12,
   "metadata": {},
   "outputs": [
    {
     "ename": "SyntaxError",
     "evalue": "invalid syntax (521623547.py, line 9)",
     "output_type": "error",
     "traceback": [
      "\u001b[1;36m  Cell \u001b[1;32mIn[12], line 9\u001b[1;36m\u001b[0m\n\u001b[1;33m    **CREATE TABLE IF NOT EXIST  nombre_tabla(campo1,campo2...tipo2...campo m tipo n)**\u001b[0m\n\u001b[1;37m    ^\u001b[0m\n\u001b[1;31mSyntaxError\u001b[0m\u001b[1;31m:\u001b[0m invalid syntax\n"
     ]
    }
   ],
   "source": [
    "#Sentencias SQL\n",
    "\n",
    "## Crear Tablas \n",
    "\n",
    "### En SQL es lo que está en rojo \n",
    "\n",
    "#- - - - - - - - - - CREAR TABLAS - - - - - - -- - - - \n",
    "\n",
    "**CREATE TABLE IF NOT EXIST  nombre_tabla(campo1,campo2...tipo2...campo m tipo n)**\n",
    "\n",
    "#**CREATE TABLE IF NOT EXIST** #proyecto es el nmbre de la tabla  \n",
    "\n",
    "#campos- \n",
    "#(campo1 tipo1, campo2 tipo2,...campon_tipo n)"
   ]
  },
  {
   "cell_type": "code",
   "execution_count": null,
   "metadata": {},
   "outputs": [
    {
     "name": "stdout",
     "output_type": "stream",
     "text": [
      "El alumno raul tiene una calificación de 8.7\n",
      "El alumno Maria tiene una calificación de 7.6\n",
      "El alumno Josefa tiene una calificación de 6.5\n",
      "los valor de ix son  0 en cada iteración\n",
      "los valor de ix son  1 en cada iteración\n",
      "los valor de ix son  2 en cada iteración\n",
      "7.599999999999999\n"
     ]
    }
   ],
   "source": [
    "### Cauclar el promedio de calificaciones del grupo \n",
    "calificaciones={\"alumno\":[\"raul\",\"Maria\",\"Josefa\"],\"calificacion\":[8.7,7.6,6.5,6,3,8]}\n",
    "cantidad=len(calificaciones[\"alumno\"])\n",
    "for ix in range(cantidad):\n",
    "    print(\"El alumno\",calificaciones[\"alumno\"][ix],\"tiene una calificación de\",calificaciones[\"calificacion\"][ix])\n",
    "\n",
    "\n",
    "suma=0\n",
    "for ix in range(cantidad):\n",
    "    print('los valor de ix son ',ix,'en cada iteración')\n",
    "    suma+=calificaciones[\"calificacion\"][ix]\n",
    "\n",
    "    \n",
    "media=suma/cantidad\n",
    "\n",
    "print(media)"
   ]
  },
  {
   "cell_type": "code",
   "execution_count": null,
   "metadata": {},
   "outputs": [
    {
     "data": {
      "text/plain": [
       "8"
      ]
     },
     "execution_count": 16,
     "metadata": {},
     "output_type": "execute_result"
    }
   ],
   "source": [
    "round(media)"
   ]
  },
  {
   "cell_type": "code",
   "execution_count": null,
   "metadata": {},
   "outputs": [
    {
     "name": "stdout",
     "output_type": "stream",
     "text": [
      "la materia es: Bases de datos el año es: 1\n"
     ]
    }
   ],
   "source": [
    "#Otro tipo de dato mas comlpejo es el diccionario que tiene la estrucutra \n",
    "#llave:valor Se declara entre llaves {}\n",
    "\n",
    "dato={'Materia':'Bases de datos','Ciclo':'Dam','Nivel':1}\n",
    "print('la materia es:',dato['Materia'], 'el año es:',dato[\"Nivel\"])"
   ]
  },
  {
   "cell_type": "code",
   "execution_count": null,
   "metadata": {},
   "outputs": [
    {
     "data": {
      "text/plain": [
       "[22, 44, 57, 92]"
      ]
     },
     "execution_count": 5,
     "metadata": {},
     "output_type": "execute_result"
    }
   ],
   "source": [
    "### Vamos a ver las listas,(arrays) se hacen con corchete \n",
    "\n",
    "a =['cucamona'] # lista vacía \n",
    "b =['hola','mundo'] # lista de cadenas \n",
    "c=[22,44,57] # lista de numeros \n",
    "d= [[11,34],[36,67], [88,63]] # una matriz de 3x2 \n"
   ]
  },
  {
   "cell_type": "code",
   "execution_count": null,
   "metadata": {},
   "outputs": [
    {
     "data": {
      "text/plain": [
       "[22, 44, 57, 72, 72, 72, 72]"
      ]
     },
     "execution_count": 10,
     "metadata": {},
     "output_type": "execute_result"
    }
   ],
   "source": [
    "\n",
    "#añadir valor a la lista\n",
    "c.append(72)\n",
    "c"
   ]
  },
  {
   "cell_type": "code",
   "execution_count": null,
   "metadata": {},
   "outputs": [
    {
     "name": "stdout",
     "output_type": "stream",
     "text": [
      "el valor de esta fila es  22 que es un numero\n",
      "el valor de esta fila es  44 que es un numero\n",
      "el valor de esta fila es  57 que es un numero\n"
     ]
    }
   ],
   "source": [
    "#Otra forma de hacer un for \n",
    "for vvvv in c:\n",
    "    print('el valor de esta fila es ',vvvv,'que es un numero')"
   ]
  },
  {
   "cell_type": "code",
   "execution_count": null,
   "metadata": {},
   "outputs": [
    {
     "name": "stdout",
     "output_type": "stream",
     "text": [
      "3\n",
      "[0, 1, 2]\n",
      "0\n",
      "1\n",
      "2\n"
     ]
    }
   ],
   "source": [
    "cant_elementos=len(c)\n",
    "print(cant_elementos)\n",
    "cant_elementos=len(c)\n",
    "#range(3) nos da un rango de 0 hasta 2, para verlo vien lo podemos hacer una lista con list \n",
    "ix_elementos=list(range(cant_elementos))\n",
    "print(ix_elementos)\n",
    "for ix in range(cant_elementos):\n",
    "    print('los valor de ix son 'ix,'en cada iteración')"
   ]
  },
  {
   "cell_type": "code",
   "execution_count": null,
   "metadata": {},
   "outputs": [
    {
     "name": "stdout",
     "output_type": "stream",
     "text": [
      "cucamona\n"
     ]
    }
   ],
   "source": [
    "for elem in a:\n",
    "    print(elem) "
   ]
  },
  {
   "cell_type": "code",
   "execution_count": null,
   "metadata": {},
   "outputs": [
    {
     "name": "stdout",
     "output_type": "stream",
     "text": [
      "como range range(0, 6) como lista de valores [0, 1, 2, 3, 4, 5]\n"
     ]
    }
   ],
   "source": [
    "print('como range',(range(6)),'como lista de valores',list(range(6)))"
   ]
  },
  {
   "cell_type": "code",
   "execution_count": null,
   "metadata": {},
   "outputs": [],
   "source": [
    "### Esto te importa lo que nosotros queramos \n",
    "import sqlite3"
   ]
  },
  {
   "attachments": {},
   "cell_type": "markdown",
   "metadata": {},
   "source": [
    "# Demo Jupyter NoteBook \n",
    "## Tiene que estar en la misma carpeta, y en los corchetes que no tenga la extensión. \n",
    "\n",
    "![gato](gato.jpg)"
   ]
  },
  {
   "attachments": {},
   "cell_type": "markdown",
   "metadata": {},
   "source": [
    "# Titulo Grande \n",
    "## Titulo mas pequeño \n",
    "### hemos dado dos comandos :\n",
    "## Esc para que se vea \"Mejor? \" y pincho otra vez para que vuelva a su estado natural \n",
    "\n",
    "\n",
    "-Esc-a para crear una celda encima  \n",
    "-Esc-b para crear una celda debajo  \n",
    "-Esc- m para que la nueva  celda sea de texto   \n",
    "- Para negritas **Negritas**\n",
    "-Eliminar una celda Esc-dd para eliminar \n",
    "- Esc y para codigo y Esc m para texto \n",
    "- OJO, los espacios cuentan esto no es java \n",
    "### Para ejecutasr una celda (Que sea codigo de texto) se da en el simbolo de play a la izquierda o sea da Crt-Enter al mismo tiempo\n",
    "\n",
    " "
   ]
  },
  {
   "cell_type": "code",
   "execution_count": null,
   "metadata": {},
   "outputs": [
    {
     "name": "stdout",
     "output_type": "stream",
     "text": [
      "hola\n"
     ]
    }
   ],
   "source": [
    "\n",
    "\n",
    "print('hola') #Esto es para imprimir en la consola, "
   ]
  }
 ],
 "metadata": {
  "kernelspec": {
   "display_name": "Python 3",
   "language": "python",
   "name": "python3"
  },
  "language_info": {
   "codemirror_mode": {
    "name": "ipython",
    "version": 3
   },
   "file_extension": ".py",
   "mimetype": "text/x-python",
   "name": "python",
   "nbconvert_exporter": "python",
   "pygments_lexer": "ipython3",
   "version": "3.11.1"
  },
  "orig_nbformat": 4,
  "vscode": {
   "interpreter": {
    "hash": "e23b9650074f50381d2a06c7c8740351222a7c6d13bdb447b79c653582a22352"
   }
  }
 },
 "nbformat": 4,
 "nbformat_minor": 2
}
