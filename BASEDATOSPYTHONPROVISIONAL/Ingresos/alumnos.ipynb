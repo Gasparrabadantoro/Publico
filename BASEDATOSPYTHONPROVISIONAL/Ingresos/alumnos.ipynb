{
 "cells": [
  {
   "cell_type": "code",
   "execution_count": 20,
   "metadata": {},
   "outputs": [],
   "source": [
    "import sqlite3\n",
    "conexion=sqlite3.connect('hospital_gambino.db')\n",
    "cur = conexion.cursor()"
   ]
  },
  {
   "cell_type": "code",
   "execution_count": 21,
   "metadata": {},
   "outputs": [],
   "source": [
    "import pandas as pd"
   ]
  },
  {
   "cell_type": "code",
   "execution_count": 22,
   "metadata": {},
   "outputs": [],
   "source": [
    "df_pacientes = pd.read_csv('pacientes.csv', sep=';')\n",
    "pacientes = df_pacientes.values"
   ]
  },
  {
   "cell_type": "code",
   "execution_count": 23,
   "metadata": {},
   "outputs": [],
   "source": [
    "df_medicos = pd.read_csv('medicos.csv', sep=';')\n",
    "medicos = df_medicos.values"
   ]
  },
  {
   "cell_type": "code",
   "execution_count": 24,
   "metadata": {},
   "outputs": [],
   "source": [
    "df_ingresos = pd.read_csv('ingresos.csv' , sep=';')\n",
    "ingresos = df_ingresos.values"
   ]
  },
  {
   "cell_type": "code",
   "execution_count": 25,
   "metadata": {},
   "outputs": [
    {
     "data": {
      "text/plain": [
       "<sqlite3.Cursor at 0x17746970140>"
      ]
     },
     "execution_count": 25,
     "metadata": {},
     "output_type": "execute_result"
    }
   ],
   "source": [
    "cur.execute(\"\"\"CREATE TABLE IF NOT EXISTS pacientes (\n",
    "                        nombre text,\n",
    "                        apellido text,\n",
    "                        direccion text,\n",
    "                        n_historial integer primary key\n",
    "                )\"\"\")"
   ]
  },
  {
   "cell_type": "code",
   "execution_count": 26,
   "metadata": {},
   "outputs": [
    {
     "data": {
      "text/plain": [
       "<sqlite3.Cursor at 0x17746970140>"
      ]
     },
     "execution_count": 26,
     "metadata": {},
     "output_type": "execute_result"
    }
   ],
   "source": [
    "cur.execute(\"\"\"CREATE TABLE IF NOT EXISTS medicos (\n",
    "                        nombre text,\n",
    "                        apellido text,\n",
    "                        especialidad text,\n",
    "                        c_id integer primary key\n",
    "                )\"\"\")"
   ]
  },
  {
   "cell_type": "code",
   "execution_count": 27,
   "metadata": {},
   "outputs": [
    {
     "data": {
      "text/plain": [
       "<sqlite3.Cursor at 0x17746970140>"
      ]
     },
     "execution_count": 27,
     "metadata": {},
     "output_type": "execute_result"
    }
   ],
   "source": [
    "cur.execute(\"\"\"CREATE TABLE IF NOT EXISTS ingresos (\n",
    "                        paciente integer,\n",
    "                        medico integer,\n",
    "                        fecha_ingreso text,\n",
    "                        id integer primary key,\n",
    "                        FOREIGN KEY (paciente) REFERENCES pacientes (n_historial),\n",
    "                        FOREIGN KEY (medico) REFERENCES pacientes (c_id)\n",
    "                )\"\"\")"
   ]
  },
  {
   "cell_type": "code",
   "execution_count": 28,
   "metadata": {},
   "outputs": [
    {
     "name": "stdout",
     "output_type": "stream",
     "text": [
      "['Marco Emilio' 'Rioja Carrasco' 'Calle Sillares 8' 9595959595]\n"
     ]
    }
   ],
   "source": [
    "for paciente in pacientes:\n",
    "    cur.execute(\"\"\"INSERT or IGNORE INTO pacientes \n",
    "                    (nombre,apellido,direccion,n_historial) \n",
    "                    VALUES (?,?,?,?);\n",
    "                \"\"\",(paciente))\n",
    "    print(paciente)"
   ]
  },
  {
   "cell_type": "code",
   "execution_count": 29,
   "metadata": {},
   "outputs": [
    {
     "name": "stdout",
     "output_type": "stream",
     "text": [
      "['Marco' 'Rioja Carrasco' 'Oftalmologo' 123123]\n"
     ]
    }
   ],
   "source": [
    "for medico in medicos:\n",
    "    cur.execute(\"\"\"INSERT or IGNORE INTO medicos \n",
    "                    (nombre,apellido,especialidad,c_id) \n",
    "                    VALUES (?,?,?,?);\n",
    "                \"\"\",(medico)),\n",
    "    print(medico)"
   ]
  },
  {
   "cell_type": "code",
   "execution_count": 30,
   "metadata": {},
   "outputs": [],
   "source": [
    "for ingreso in ingresos:\n",
    "    cur.execute(\"\"\"INSERT or IGNORE INTO ingresos \n",
    "                    (paciente,medico,fecha_ingreso,id) \n",
    "                    VALUES (?,?,?,?);\n",
    "                \"\"\",(ingreso))"
   ]
  },
  {
   "cell_type": "code",
   "execution_count": 31,
   "metadata": {},
   "outputs": [
    {
     "name": "stdout",
     "output_type": "stream",
     "text": [
      "(9595959595, 123123, '12/12/2023', 23)\n"
     ]
    }
   ],
   "source": [
    "Listar_valores=cur.execute(\"SELECT * FROM ingresos\")\n",
    "data=cur.fetchall\n",
    "for row in data():\n",
    "    print(row)"
   ]
  },
  {
   "cell_type": "code",
   "execution_count": 32,
   "metadata": {},
   "outputs": [],
   "source": [
    "conexion.commit()\n",
    "conexion.close()"
   ]
  }
 ],
 "metadata": {
  "kernelspec": {
   "display_name": "Python 3",
   "language": "python",
   "name": "python3"
  },
  "language_info": {
   "codemirror_mode": {
    "name": "ipython",
    "version": 3
   },
   "file_extension": ".py",
   "mimetype": "text/x-python",
   "name": "python",
   "nbconvert_exporter": "python",
   "pygments_lexer": "ipython3",
   "version": "3.11.1"
  },
  "orig_nbformat": 4,
  "vscode": {
   "interpreter": {
    "hash": "e23b9650074f50381d2a06c7c8740351222a7c6d13bdb447b79c653582a22352"
   }
  }
 },
 "nbformat": 4,
 "nbformat_minor": 2
}
